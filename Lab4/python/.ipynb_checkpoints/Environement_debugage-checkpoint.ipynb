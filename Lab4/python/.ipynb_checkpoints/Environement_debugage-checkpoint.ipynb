{
 "cells": [
  {
   "cell_type": "code",
   "execution_count": 1,
   "metadata": {},
   "outputs": [],
   "source": [
    "import sys"
   ]
  },
  {
   "cell_type": "code",
   "execution_count": 2,
   "metadata": {},
   "outputs": [],
   "source": [
    "import tkinter as tk\n",
    "from tkinter.filedialog import askopenfilename"
   ]
  },
  {
   "cell_type": "code",
   "execution_count": 3,
   "metadata": {},
   "outputs": [],
   "source": [
    "%gui tk"
   ]
  },
  {
   "cell_type": "code",
   "execution_count": 4,
   "metadata": {},
   "outputs": [],
   "source": [
    "sys.path.append(\".\")"
   ]
  },
  {
   "cell_type": "code",
   "execution_count": 5,
   "metadata": {},
   "outputs": [
    {
     "ename": "ImportError",
     "evalue": "dynamic module does not define module export function (PyInit_boucleThread)",
     "output_type": "error",
     "traceback": [
      "\u001b[1;31m---------------------------------------------------------------------------\u001b[0m",
      "\u001b[1;31mImportError\u001b[0m                               Traceback (most recent call last)",
      "\u001b[1;32m<ipython-input-5-98deb828805e>\u001b[0m in \u001b[0;36m<module>\u001b[1;34m\u001b[0m\n\u001b[1;32m----> 1\u001b[1;33m \u001b[1;32mimport\u001b[0m \u001b[0mboucleThread\u001b[0m\u001b[1;33m\u001b[0m\u001b[1;33m\u001b[0m\u001b[0m\n\u001b[0m",
      "\u001b[1;31mImportError\u001b[0m: dynamic module does not define module export function (PyInit_boucleThread)"
     ]
    }
   ],
   "source": [
    "import boucleThread"
   ]
  },
  {
   "cell_type": "code",
   "execution_count": null,
   "metadata": {},
   "outputs": [],
   "source": []
  },
  {
   "cell_type": "code",
   "execution_count": null,
   "metadata": {},
   "outputs": [],
   "source": [
    "def handl_quit():\n",
    "    boucleThread.quit()\n",
    "    fenetre.destroy()"
   ]
  },
  {
   "cell_type": "code",
   "execution_count": null,
   "metadata": {},
   "outputs": [],
   "source": []
  },
  {
   "cell_type": "code",
   "execution_count": null,
   "metadata": {},
   "outputs": [],
   "source": [
    "def handl_run():\n",
    "    filename = askopenfilename()\n",
    "    boucleThread.run(filename)"
   ]
  },
  {
   "cell_type": "code",
   "execution_count": null,
   "metadata": {},
   "outputs": [],
   "source": [
    "fenetre = tk.Tk()\n",
    "greeting = tk.Label(text=\"Hello, Tkinter\")\n",
    "greeting.pack()\n",
    "\n",
    "run_button = tk.Button(text=\"run\", fg=\"black\",command=handl_run)\n",
    "run_button.pack( side = tk.LEFT)\n",
    "\n",
    "\n",
    "replay_button = tk.Button(text=\"replay\", fg=\"black\",command=boucleThread.replay)\n",
    "replay_button.pack( side = tk.LEFT)\n",
    "\n",
    "\n",
    "\n",
    "play_button = tk.Button(text=\"play\", fg=\"black\",command=boucleThread.play)\n",
    "play_button.pack( side = tk.LEFT)\n",
    "\n",
    "pause_button = tk.Button(text=\"pause\", fg=\"black\",command=boucleThread.pause)\n",
    "pause_button.pack( side = tk.LEFT)\n",
    "\n",
    "accelerate1x_button = tk.Button(text=\"1x\", fg=\"black\",command=boucleThread.accelerate1x)\n",
    "accelerate1x_button.pack( side = tk.LEFT)\n",
    "\n",
    "accelerate2x_button = tk.Button(text=\"2x\", fg=\"black\",command=boucleThread.accelerate2x)\n",
    "accelerate2x_button.pack( side = tk.LEFT)\n",
    "\n",
    "\n",
    "\n",
    "fenetre.protocol(\"WM_DELETE_WINDOW\", handl_quit)"
   ]
  },
  {
   "cell_type": "code",
   "execution_count": null,
   "metadata": {},
   "outputs": [],
   "source": []
  },
  {
   "cell_type": "code",
   "execution_count": null,
   "metadata": {},
   "outputs": [],
   "source": []
  }
 ],
 "metadata": {
  "kernelspec": {
   "display_name": "Python 3",
   "language": "python",
   "name": "python3"
  },
  "language_info": {
   "codemirror_mode": {
    "name": "ipython",
    "version": 3
   },
   "file_extension": ".py",
   "mimetype": "text/x-python",
   "name": "python",
   "nbconvert_exporter": "python",
   "pygments_lexer": "ipython3",
   "version": "3.8.3"
  }
 },
 "nbformat": 4,
 "nbformat_minor": 4
}
