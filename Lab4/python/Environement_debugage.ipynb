{
 "cells": [
  {
   "cell_type": "code",
   "execution_count": 1,
   "metadata": {},
   "outputs": [],
   "source": [
    "import sys\n",
    "import threading\n",
    "import time"
   ]
  },
  {
   "cell_type": "code",
   "execution_count": 2,
   "metadata": {},
   "outputs": [],
   "source": [
    "import tkinter as tk\n",
    "from tkinter.filedialog import askopenfilename"
   ]
  },
  {
   "cell_type": "code",
   "execution_count": 3,
   "metadata": {},
   "outputs": [],
   "source": [
    "%gui tk"
   ]
  },
  {
   "cell_type": "code",
   "execution_count": 4,
   "metadata": {},
   "outputs": [],
   "source": [
    "sys.path.append(\".\")\n",
    "import boucleThread"
   ]
  },
  {
   "cell_type": "code",
   "execution_count": 5,
   "metadata": {},
   "outputs": [],
   "source": [
    "class myThread(threading.Thread):\n",
    "    i_start=0\n",
    "    i_end=1\n",
    "    def __init__(self, threadID, i_start,i_end):\n",
    "        threading.Thread.__init__(self)\n",
    "        self.threadID = threadID\n",
    "        self.i_start = i_start\n",
    "        self.i_end = i_end\n",
    "    def run(self):\n",
    "        for i in range(self.i_start,self.i_end):\n",
    "            pass"
   ]
  },
  {
   "cell_type": "code",
   "execution_count": 6,
   "metadata": {
    "scrolled": false
   },
   "outputs": [],
   "source": [
    "def boucle_interprete_thread(n_iter,n_thread):\n",
    "    bond = int(n_iter/n_thread)\n",
    "    threads = []\n",
    "    for i in range(0,n_thread):\n",
    "        threads.append(myThread(i,0,bond))\n",
    "    for t in threads:\n",
    "        t.start()\n",
    "    for t in threads:\n",
    "        t.join()\n",
    "        \n",
    "def wapper_boucle_interprete_thread():\n",
    "    time_init = time.perf_counter()\n",
    "    boucle_interprete_thread(int(v_iteration.get()),4)\n",
    "    v_temps.set(str(time.perf_counter() - time_init))"
   ]
  },
  {
   "cell_type": "code",
   "execution_count": 7,
   "metadata": {},
   "outputs": [],
   "source": [
    "def boucle_interprete_simple(n_iter):\n",
    "    for i in range(n_iter):\n",
    "        pass\n",
    "def wapper_boucle_interprete_simple():\n",
    "    time_init = time.perf_counter()\n",
    "    boucle_interprete_simple(int(v_iteration.get()))\n",
    "    v_temps.set(str(time.perf_counter() - time_init))"
   ]
  },
  {
   "cell_type": "code",
   "execution_count": 8,
   "metadata": {},
   "outputs": [],
   "source": [
    "def wapper_boucle_compile_simple():\n",
    "    time_init = time.perf_counter()\n",
    "    boucleThread.boucleSimple(int(v_iteration.get()))\n",
    "    v_temps.set(str(time.perf_counter() - time_init))"
   ]
  },
  {
   "cell_type": "code",
   "execution_count": 9,
   "metadata": {},
   "outputs": [],
   "source": [
    "def wapper_boucle_compile_thread():\n",
    "    time_init = time.perf_counter()\n",
    "    boucleThread.boucleThread(int(v_iteration.get()))\n",
    "    v_temps.set(str(time.perf_counter() - time_init))"
   ]
  },
  {
   "cell_type": "code",
   "execution_count": null,
   "metadata": {},
   "outputs": [],
   "source": []
  },
  {
   "cell_type": "code",
   "execution_count": 10,
   "metadata": {},
   "outputs": [
    {
     "name": "stderr",
     "output_type": "stream",
     "text": [
      "Exception in Tkinter callback\n",
      "OverflowError: Python int too large to convert to C long\n",
      "\n",
      "The above exception was the direct cause of the following exception:\n",
      "\n",
      "Traceback (most recent call last):\n",
      "  File \"C:\\ProgramData\\Anaconda3\\lib\\tkinter\\__init__.py\", line 1883, in __call__\n",
      "    return self.func(*args)\n",
      "  File \"<ipython-input-8-4e221f350885>\", line 3, in wapper_boucle_compile_simple\n",
      "    boucleThread.boucleSimple(int(v_iteration.get()))\n",
      "SystemError: <built-in function boucleSimple> returned a result with an error set\n"
     ]
    }
   ],
   "source": [
    "fenetre = tk.Tk()\n",
    "greeting = tk.Label(text=\"Hello, Tkinter\")\n",
    "greeting.pack(side = tk.TOP)\n",
    "\n",
    "label_nb_itration = tk.Label(text=\"inserer nb iterations\")\n",
    "label_nb_itration.pack(side = tk.LEFT)\n",
    "\n",
    "v_iteration = tk.StringVar()\n",
    "entry_nb_iteration = tk.Entry(textvariable=v_iteration)\n",
    "entry_nb_iteration.pack(side = tk.LEFT)\n",
    "\n",
    "\n",
    "label_consume = tk.Label(text=\"temps consume:\")\n",
    "label_consume.pack(side = tk.LEFT)\n",
    "\n",
    "v_temps = tk.StringVar()\n",
    "label_temps = tk.Label(textvariable=v_temps)\n",
    "label_temps.pack(side = tk.LEFT)\n",
    "v_temps.set(\"^&^\")\n",
    "\n",
    "interprete_simple_button = tk.Button(text=\"interprete simple\", fg=\"black\",command=wapper_boucle_interprete_simple)\n",
    "interprete_simple_button.pack( side = tk.BOTTOM)\n",
    "\n",
    "interprete_thread_button = tk.Button(text=\"interprete thread\", fg=\"black\",command=wapper_boucle_interprete_thread)\n",
    "interprete_thread_button.pack( side = tk.BOTTOM)\n",
    "\n",
    "compile_simple_button = tk.Button(text=\"compile simple\", fg=\"black\",command=wapper_boucle_compile_simple)\n",
    "compile_simple_button.pack( side = tk.BOTTOM)\n",
    "\n",
    "\n",
    "compile_thread_button = tk.Button(text=\"compile thread\", fg=\"black\",command=wapper_boucle_compile_thread)\n",
    "compile_thread_button.pack( side = tk.BOTTOM)\n",
    "\n",
    "\n",
    "\n",
    "#replay_button = tk.Button(text=\"python boucle 5 thread\", fg=\"black\",command=boucleThread.replay)\n",
    "#replay_button.pack( side = tk.LEFT)\n",
    "\n",
    "\n",
    "\n",
    "#play_button = tk.Button(text=\"play\", fg=\"black\",command=boucleThread.play)\n",
    "#play_button.pack( side = tk.LEFT)\n",
    "\n",
    "#pause_button = tk.Button(text=\"pause\", fg=\"black\",command=boucleThread.pause)\n",
    "#pause_button.pack( side = tk.LEFT)\n",
    "\n",
    "#accelerate1x_button = tk.Button(text=\"1x\", fg=\"black\",command=boucleThread.accelerate1x)\n",
    "#accelerate1x_button.pack( side = tk.LEFT)\n",
    "\n",
    "#accelerate2x_button = tk.Button(text=\"2x\", fg=\"black\",command=boucleThread.accelerate2x)\n",
    "#accelerate2x_button.pack( side = tk.LEFT)\n",
    "\n",
    "\n",
    "\n",
    "#fenetre.protocol(\"WM_DELETE_WINDOW\", handl_quit)"
   ]
  },
  {
   "cell_type": "code",
   "execution_count": null,
   "metadata": {},
   "outputs": [],
   "source": []
  }
 ],
 "metadata": {
  "kernelspec": {
   "display_name": "Python 3",
   "language": "python",
   "name": "python3"
  },
  "language_info": {
   "codemirror_mode": {
    "name": "ipython",
    "version": 3
   },
   "file_extension": ".py",
   "mimetype": "text/x-python",
   "name": "python",
   "nbconvert_exporter": "python",
   "pygments_lexer": "ipython3",
   "version": "3.8.3"
  }
 },
 "nbformat": 4,
 "nbformat_minor": 4
}
